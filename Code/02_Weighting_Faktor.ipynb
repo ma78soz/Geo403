{
 "cells": [
  {
   "cell_type": "markdown",
   "metadata": {},
   "source": [
    "### Vorbereitung der Programmierumgebung"
   ]
  },
  {
   "cell_type": "code",
   "execution_count": 15,
   "metadata": {},
   "outputs": [],
   "source": [
    "import os\n",
    "import numpy as np\n",
    "from arcpy.sa import *"
   ]
  },
  {
   "cell_type": "code",
   "execution_count": 3,
   "metadata": {},
   "outputs": [],
   "source": [
    "# Umgebungseinstellungen\n",
    "arcpy.env.workspace = r\"Beispieldaten\"  # Pfad zum Arbeitsverzeichnis\n",
    "arcpy.env.overwriteOutput = True\n",
    "os.chdir(arcpy.env.workspace)"
   ]
  },
  {
   "cell_type": "markdown",
   "metadata": {},
   "source": [
    "### Daten einladen"
   ]
  },
  {
   "cell_type": "code",
   "execution_count": 4,
   "metadata": {},
   "outputs": [],
   "source": [
    "# Verzeichnis mit den Eingabe-Rastern (SI-Raster)\n",
    "si_folder = r\"data/Statistical_Index\"\n",
    "raster_list = [f for f in os.listdir(si_folder) if f.endswith(\"SI.tif\")]\n",
    "\n",
    "# Ordner, in dem deine .dbf Tabellen liegen\n",
    "tabulate_folder = r\"data/Statistical_Index\"\n",
    "# Liste aller .dbf-Dateien, die mit \"Tabulate_\" beginnen\n",
    "table_list = [f for f in os.listdir(tabulate_folder) if f.startswith(\"Tabulate_\") and f.endswith(\".dbf\")]\n",
    "\n",
    "# Ausgabeordner\n",
    "output_folder = r\"data/Weighting_Faktor\"\n",
    "# Ordner anlegen, wenn er nicht existiert\n",
    "os.makedirs(output_folder, exist_ok=True)\n"
   ]
  },
  {
   "cell_type": "markdown",
   "metadata": {},
   "source": [
    "### Berechnung des TS für jeden Parameter"
   ]
  },
  {
   "cell_type": "code",
   "execution_count": 7,
   "metadata": {},
   "outputs": [
    {
     "name": "stdout",
     "output_type": "stream",
     "text": [
      "🔄 Bearbeite Parameter: aspect_reclass_reproject\n",
      "✅ aspect_reclass_reproject: TS = 6184.0000\n",
      "🔄 Bearbeite Parameter: curvature_planar_reclass_reproject\n",
      "✅ curvature_planar_reclass_reproject: TS = 2903.0000\n",
      "🔄 Bearbeite Parameter: curvature_profile_reclass_reproject\n",
      "✅ curvature_profile_reclass_reproject: TS = 3113.0000\n",
      "🔄 Bearbeite Parameter: litho1_reprojected\n",
      "✅ litho1_reprojected: TS = 4429.0000\n",
      "🔄 Bearbeite Parameter: precip_va3dayinterval_ordkriging_AOI_reclass_reproject\n",
      "✅ precip_va3dayinterval_ordkriging_AOI_reclass_reproject: TS = 3495.0000\n",
      "🔄 Bearbeite Parameter: Reclass_SPI_reproject\n",
      "✅ Reclass_SPI_reproject: TS = 1725.0000\n",
      "🔄 Bearbeite Parameter: rivers_setnull_mrb500_100_viewshed_reproject\n",
      "✅ rivers_setnull_mrb500_100_viewshed_reproject: TS = 6486.0000\n",
      "🔄 Bearbeite Parameter: roads_mrb250_50_viewshed_reclass_reproject\n",
      "✅ roads_mrb250_50_viewshed_reclass_reproject: TS = 2788.0000\n",
      "🔄 Bearbeite Parameter: slope_reclass_reprojected\n",
      "✅ slope_reclass_reprojected: TS = 3893.0000\n",
      "🔄 Bearbeite Parameter: soil1_repro\n",
      "✅ soil1_repro: TS = 4839.0000\n",
      "🔄 Bearbeite Parameter: twi_reclass_reprojected\n",
      "✅ twi_reclass_reprojected: TS = 1972.0000\n",
      "🔄 Bearbeite Parameter: VGTB_LandCover_2010_v2_reprojected\n",
      "✅ VGTB_LandCover_2010_v2_reprojected: TS = 4110.0000\n",
      "\n",
      "📁 Alle TS_i-Werte gespeichert unter:\n",
      "data/Weighting_Faktor\\Total_Scores.txt\n"
     ]
    }
   ],
   "source": [
    "results = []  # Für spätere Gewichtung\n",
    "\n",
    "for raster_name in raster_list:\n",
    "    param_name = raster_name.replace(\"_SI.tif\", \"\")\n",
    "    si_path = os.path.join(si_folder, raster_name)\n",
    "    \n",
    "    # Passende Tabelle finden\n",
    "    matching_table = f\"Tabulate_{param_name}.dbf\"\n",
    "    table_path = os.path.join(tabulate_folder, matching_table)\n",
    "\n",
    "    if not os.path.exists(table_path):\n",
    "        print(f\"⚠️ Keine Tabelle für {param_name} gefunden – wird übersprungen.\")\n",
    "        continue\n",
    "\n",
    "    print(f\"🔄 Bearbeite Parameter: {param_name}\")\n",
    "\n",
    "    # Tabelle laden: Value = Klassenwert, SUM = Anzahl Rutschungspixel in der Klasse\n",
    "    zonal_table = arcpy.da.TableToNumPyArray(table_path, [\"Value\", \"SUM\"])\n",
    "\n",
    "    # SI-Raster laden als Dictionary (Klasse: SI-Wert)\n",
    "    si_raster = arcpy.Raster(si_path)\n",
    "    si_array = arcpy.RasterToNumPyArray(si_raster)\n",
    "    unique_classes = np.unique(si_array)\n",
    "\n",
    "    # Dictionary: Klasse → SI-Wert (angenommen, der SI-Wert ist direkt der Zellwert)\n",
    "    si_dict = {val: val for val in unique_classes if val != si_raster.noDataValue}\n",
    "\n",
    "    # Total Score (TS_i) berechnen\n",
    "    ts = 0.0\n",
    "    for row in zonal_table:\n",
    "        cls = row[0]\n",
    "        n_pix = row[1]\n",
    "        si = si_dict.get(cls, 0)  # Fallback auf 0, falls Klasse im SI-Raster fehlt\n",
    "        ts += n_pix * si\n",
    "\n",
    "    results.append((param_name, ts))\n",
    "    print(f\"✅ {param_name}: TS = {ts:.4f}\")\n",
    "\n",
    "# --- 3. Optional: In Textdatei speichern ---\n",
    "output_txt = os.path.join(output_folder, \"Total_Scores.txt\")\n",
    "with open(output_txt, \"w\") as f:\n",
    "    for name, ts in results:\n",
    "        f.write(f\"{name}\\t{ts:.6f}\\n\")\n",
    "\n",
    "print(f\"\\n📁 Alle TS_i-Werte gespeichert unter:\\n{output_txt}\")"
   ]
  },
  {
   "cell_type": "markdown",
   "metadata": {},
   "source": [
    "### Berechnung Weighting Faktor (normiert von 0 bis 1)"
   ]
  },
  {
   "cell_type": "code",
   "execution_count": 11,
   "metadata": {},
   "outputs": [],
   "source": [
    "# Extrahieren der Total Scores aus den Ergebnissen\n",
    "total_scores = [score for _, score in results]\n",
    "\n",
    "# Minimum und Maximum der Total Scores\n",
    "min_ts = min(total_scores)\n",
    "max_ts = max(total_scores)\n",
    "\n",
    "# Normierte Gewichtungsfaktoren (Skala 0–1)\n",
    "weighting_factors = [(ts - min_ts) / (max_ts - min_ts)*9+1 for ts in total_scores]"
   ]
  },
  {
   "cell_type": "code",
   "execution_count": 12,
   "metadata": {},
   "outputs": [
    {
     "name": "stdout",
     "output_type": "stream",
     "text": [
      "[9.429111531190927, 3.226843100189036, 3.623818525519849, 6.111531190926276, 4.34593572778828, 1.0, 10.0, 3.0094517958412097, 5.098298676748582, 6.886578449905482, 1.4669187145557656, 5.508506616257089]\n",
      "[('aspect_reclass_reproject', 6184.0), ('curvature_planar_reclass_reproject', 2903.0), ('curvature_profile_reclass_reproject', 3113.0), ('litho1_reprojected', 4429.0), ('precip_va3dayinterval_ordkriging_AOI_reclass_reproject', 3495.0), ('Reclass_SPI_reproject', 1725.0), ('rivers_setnull_mrb500_100_viewshed_reproject', 6486.0), ('roads_mrb250_50_viewshed_reclass_reproject', 2788.0), ('slope_reclass_reprojected', 3893.0), ('soil1_repro', 4839.0), ('twi_reclass_reprojected', 1972.0), ('VGTB_LandCover_2010_v2_reprojected', 4110.0)]\n"
     ]
    }
   ],
   "source": [
    "print(weighting_factors)\n",
    "print(results)"
   ]
  },
  {
   "cell_type": "code",
   "execution_count": 16,
   "metadata": {},
   "outputs": [
    {
     "name": "stdout",
     "output_type": "stream",
     "text": [
      "Gefährdungslayer mit Gewichtungsfaktoren wurde erfolgreich erstellt.\n"
     ]
    }
   ],
   "source": [
    "# Liste der vollständigen SI-Rasterpfade\n",
    "si_raster_paths = [os.path.join(si_folder, r) for r in raster_list] # wurde oben definiert\n",
    "\n",
    "# Lookup-Raster erstellen (temporär, da SI-Werte nicht direkt addiert werden können)\n",
    "lookup_rasters = [Lookup(raster, \"SI\") for raster in si_raster_paths]\n",
    "\n",
    "# Gewichts-Raster erstellen: Jedes SI-Raster mit seinem jeweiligen Gewichtungsfaktor multiplizieren\n",
    "weighted_rasters = []\n",
    "for idx, raster in enumerate(lookup_rasters):\n",
    "    weighted_raster = raster * weighting_factors[idx]  # SI-Raster mit Gewichtungsfaktor multiplizieren\n",
    "    weighted_rasters.append(weighted_raster)\n",
    "\n",
    "# Summe der gewichteten Raster berechnen\n",
    "si_sum = CellStatistics(weighted_rasters, \"SUM\", \"DATA\")\n",
    "\n",
    "# Ergebnis speichern\n",
    "si_sum.save(os.path.join(output_folder, \"SI_sum_weighted.tif\"))  # Summe der gewichteten Raster speichern\n",
    "print(\"Gefährdungslayer mit Gewichtungsfaktoren wurde erfolgreich erstellt.\")"
   ]
  },
  {
   "cell_type": "code",
   "execution_count": null,
   "metadata": {},
   "outputs": [],
   "source": [
    "### SI-Weighted normieren (0-1)"
   ]
  },
  {
   "cell_type": "code",
   "execution_count": 18,
   "metadata": {},
   "outputs": [],
   "source": [
    "# Min und Max Werte des si_sum Layers berechnen\n",
    "min_value = arcpy.management.GetRasterProperties(si_sum, \"MINIMUM\")\n",
    "max_value = arcpy.management.GetRasterProperties(si_sum, \"MAXIMUM\")\n",
    "\n",
    "# Min und Max als Variablen extrahieren\n",
    "min_value = float(min_value.getOutput(0))\n",
    "max_value = float(max_value.getOutput(0))\n",
    "\n",
    "# Raster standardisieren: (Wert - Min) / (Max - Min)\n",
    "standardized_raster = (Raster(si_sum) - min_value) / (max_value - min_value)\n",
    "\n",
    "# Ausgabe-Raster speichern\n",
    "standardized_raster.save(os.path.join(output_folder, \"SI_sum_weighted_standardized.tif\"))\n"
   ]
  },
  {
   "cell_type": "code",
   "execution_count": null,
   "metadata": {},
   "outputs": [],
   "source": []
  }
 ],
 "metadata": {
  "kernelspec": {
   "display_name": "ArcGISPro",
   "language": "Python",
   "name": "python3"
  },
  "language_info": {
   "file_extension": ".py",
   "name": "python",
   "version": "3"
  }
 },
 "nbformat": 4,
 "nbformat_minor": 2
}
