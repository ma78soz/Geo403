{
 "cells": [
  {
   "cell_type": "markdown",
   "metadata": {},
   "source": [
    "### Vorbereitung Arbeitsumgebung"
   ]
  },
  {
   "cell_type": "code",
   "execution_count": 21,
   "metadata": {},
   "outputs": [],
   "source": [
    "import arcpy\n",
    "from arcpy.ia import ExtractBand\n",
    "import numpy as np\n",
    "from sklearn.metrics import roc_curve, auc\n",
    "import matplotlib.pyplot as plt\n",
    "from arcpy.sa import *\n",
    "import os"
   ]
  },
  {
   "cell_type": "code",
   "execution_count": 28,
   "metadata": {},
   "outputs": [],
   "source": [
    " # Setze dein Arbeitsverzeichnis\n",
    "arcpy.env.workspace = r\"Beispieldaten\\data\" # Pfad an Arbeitsumgebung anpassen\n"
   ]
  },
  {
   "cell_type": "markdown",
   "metadata": {},
   "source": [
    "### Raster vorbereiten (Hangrutschungen und Index zusammenfügen)"
   ]
  },
  {
   "cell_type": "code",
   "execution_count": 29,
   "metadata": {},
   "outputs": [
    {
     "data": {
      "text/html": [
       "<div class='gpresult'><h2>Messages</h2><div id='messages' data-messages='[\"Start Time: Donnerstag, 10. April 2025 08:14:08\",\"Succeeded at Donnerstag, 10. April 2025 08:14:18 (Elapsed Time: 9.63 seconds)\"]' data-show='true'><div id = 'default' /></div></div>"
      ],
      "text/plain": [
       "<Result 'C:\\\\Users\\\\Marlenelokal\\\\OneDrive\\\\Dokumente\\\\UniJena\\\\Geo403_Geoinfo_Projekt\\\\Geoinfo_Projekt\\\\Automatisation\\\\data\\\\SI_train_slides.tif'>"
      ]
     },
     "execution_count": 29,
     "metadata": {},
     "output_type": "execute_result"
    }
   ],
   "source": [
    "# Eingaberaster\n",
    "parameter_raster = \"\\Weighting_Faktor\\SI_sum_weighted.tif\"\n",
    "landslide_raster = \"Hangrutschungen.tif\"\n",
    "\n",
    "# Temporärer Pfad für das kombinierte Raster\n",
    "composite_output = \"SI_train_slides.tif\"\n",
    "\n",
    "# Kombiniere Rasterbänder: Band 1 = SI, Band 2 = Rutschung\n",
    "arcpy.management.CompositeBands([parameter_raster, landslide_raster], composite_output)"
   ]
  },
  {
   "cell_type": "markdown",
   "metadata": {},
   "source": [
    "### Berechnung von ROC und AUC"
   ]
  },
  {
   "cell_type": "code",
   "execution_count": 31,
   "metadata": {},
   "outputs": [
    {
     "name": "stdout",
     "output_type": "stream",
     "text": [
      "AUC: 0.894843711791643\n"
     ]
    }
   ],
   "source": [
    "composite_raster1 = \"SI_train_slides.tif\"\n",
    "\n",
    "# Band 1 (SI) extrahieren\n",
    "si_raster1 = ExtractBand(composite_raster1, [1])\n",
    "\n",
    "# Band 2 (Landslide) extrahieren\n",
    "landslide_raster1 = ExtractBand(composite_raster1, [2])\n",
    "\n",
    "# Konvertiere in NumPy-Arrays\n",
    "si_array1 = arcpy.RasterToNumPyArray(si_raster1)\n",
    "landslide_array1 = arcpy.RasterToNumPyArray(landslide_raster1)\n",
    "\n",
    "# Maske für gültige Werte (SI hat NoData Wert von -32768)\n",
    "valid_mask1 = (si_array1 != 3) \n",
    "y_true1 = landslide_array1[valid_mask1].flatten()    # 1 = Erdrutsch, 0 = Kein Erdrutsch\n",
    "y_scores1 = si_array1[valid_mask1].flatten()           # Vorhersagewerte\n",
    "# Sicherstellen, dass nur 0 und 1 vorkommen (3 war noch NoData Value im binary raster)\n",
    "y_true1 = (y_true1 == 1).astype(int)\n",
    "\n",
    "# Berechne ROC-Kurve und AUC\n",
    "fpr1, tpr1, _ = roc_curve(y_true1, y_scores1)\n",
    "roc_auc1 = auc(fpr1, tpr1)\n",
    "print(f\"AUC: {roc_auc1}\")"
   ]
  },
  {
   "cell_type": "markdown",
   "metadata": {},
   "source": [
    "### Darstellung"
   ]
  },
  {
   "cell_type": "code",
   "execution_count": 32,
   "metadata": {},
   "outputs": [],
   "source": [
    "plt.figure(figsize=(10, 10))\n",
    "\n",
    "# ROC-Kurven zeichnen\n",
    "plt.plot(fpr1, tpr1, color=\"#1f77b4\", lw=2, linestyle=\"-\", label=\"SI (AUC = {:.2f})\".format(roc_auc1))\n",
    "\n",
    "# Diagonale Linie (Random Guess)\n",
    "plt.plot([0, 1], [0, 1], color=\"grey\", linestyle=\"--\", lw=1)\n",
    "\n",
    "# Plot-Details\n",
    "plt.xlabel(\"Falsch Positiv\", fontsize=12)\n",
    "plt.ylabel(\"Korrekt Positiv\", fontsize=12)\n",
    "plt.title(\"ROC-Kurven für Erdrutschmodelle\", fontsize=14)\n",
    "plt.legend(loc=\"lower right\", fontsize=10)\n",
    "plt.grid(True, linestyle=\":\", linewidth=0.5)\n",
    "\n",
    "# Zeige Plot\n",
    "plt.tight_layout()\n",
    "plt.show()"
   ]
  },
  {
   "cell_type": "code",
   "execution_count": null,
   "metadata": {},
   "outputs": [],
   "source": []
  }
 ],
 "metadata": {
  "kernelspec": {
   "display_name": "ArcGISPro",
   "language": "Python",
   "name": "python3"
  },
  "language_info": {
   "file_extension": ".py",
   "name": "python",
   "version": "3"
  }
 },
 "nbformat": 4,
 "nbformat_minor": 2
}
