{
 "cells": [
  {
   "cell_type": "markdown",
   "metadata": {},
   "source": [
    "### Vorbereitung der Programmierumgebung"
   ]
  },
  {
   "cell_type": "code",
   "execution_count": 1,
   "metadata": {},
   "outputs": [],
   "source": [
    "# Import benötigter Pakete\n",
    "import arcpy\n",
    "from arcpy import env\n",
    "from arcpy.sa import *\n",
    "import math\n",
    "import os\n",
    "import pandas as pd"
   ]
  },
  {
   "cell_type": "code",
   "execution_count": 2,
   "metadata": {},
   "outputs": [],
   "source": [
    "# Umgebungseinstellungen\n",
    "arcpy.env.workspace = r\"Beispieldaten\"  # Pfad zum Arbeitsverzeichnis\n",
    "arcpy.env.overwriteOutput = True\n",
    "os.chdir(arcpy.env.workspace)\n"
   ]
  },
  {
   "cell_type": "markdown",
   "metadata": {},
   "source": [
    "### Daten einladen"
   ]
  },
  {
   "cell_type": "code",
   "execution_count": 5,
   "metadata": {},
   "outputs": [],
   "source": [
    "# Referenz-Raster (Sichtfeld)\n",
    "viewshed = \"/View15_30q3_binär.tif\"\n",
    "\n",
    "# Verzeichnis mit den Eingabe-Rastern (Parameter)\n",
    "parameter_folder = r\"/Parameter\"\n",
    "raster_list = [f for f in os.listdir(parameter_folder) if f.endswith(\".tif\")]\n",
    "\n",
    "# Landslide Raster (Binär: 1 = Landslide, 0 = Kein Landslide)\n",
    "landslide_raster = \"/sli_train_80_binary.tif\"\n",
    "\n",
    "# Ausgabeordner\n",
    "output_folder = os.path.join(arcpy.env.workspace, \"/Statistical_Index\")\n"
   ]
  },
  {
   "cell_type": "markdown",
   "metadata": {},
   "source": [
    "### Berechnung des Statistical Index für jeden Parameter der Liste "
   ]
  },
  {
   "cell_type": "code",
   "execution_count": 6,
   "metadata": {},
   "outputs": [
    {
     "name": "stdout",
     "output_type": "stream",
     "text": [
      "Verarbeitung von: aspect_reclass_reproject.tif\n",
      "aspect_reclass_reproject.tif wurde erfolgreich zugeschnitten\n",
      "Tabulate-Ausgabe gespeichert unter: C:\\Users\\Marlenelokal\\OneDrive\\Dokumente\\UniJena\\Geo403_Geoinfo_Projekt\\Geoinfo_Projekt\\Automatisation\\data\\Statistical_Index\\Tabulate_aspect_reclass_reproject.dbf\n",
      "Gesamtanzahl der Landrutsche: 1432.0\n",
      "Anzahl gültiger Pixel im Parameter-Raster: 1540692.0\n",
      "SI-Werte in C:\\Users\\Marlenelokal\\OneDrive\\Dokumente\\UniJena\\Geo403_Geoinfo_Projekt\\Geoinfo_Projekt\\Automatisation\\data\\Statistical_Index\\aspect_reclass_reproject_SI.tif geschrieben\n",
      "###########################################################################\n",
      "Verarbeitung von: curvature_planar_reclass_reproject.tif\n",
      "curvature_planar_reclass_reproject.tif wurde erfolgreich zugeschnitten\n",
      "Tabulate-Ausgabe gespeichert unter: C:\\Users\\Marlenelokal\\OneDrive\\Dokumente\\UniJena\\Geo403_Geoinfo_Projekt\\Geoinfo_Projekt\\Automatisation\\data\\Statistical_Index\\Tabulate_curvature_planar_reclass_reproject.dbf\n",
      "Gesamtanzahl der Landrutsche: 1477.0\n",
      "Anzahl gültiger Pixel im Parameter-Raster: 1609349.0\n",
      "SI-Werte in C:\\Users\\Marlenelokal\\OneDrive\\Dokumente\\UniJena\\Geo403_Geoinfo_Projekt\\Geoinfo_Projekt\\Automatisation\\data\\Statistical_Index\\curvature_planar_reclass_reproject_SI.tif geschrieben\n",
      "###########################################################################\n",
      "Verarbeitung von: curvature_profile_reclass_reproject.tif\n",
      "curvature_profile_reclass_reproject.tif wurde erfolgreich zugeschnitten\n",
      "Tabulate-Ausgabe gespeichert unter: C:\\Users\\Marlenelokal\\OneDrive\\Dokumente\\UniJena\\Geo403_Geoinfo_Projekt\\Geoinfo_Projekt\\Automatisation\\data\\Statistical_Index\\Tabulate_curvature_profile_reclass_reproject.dbf\n",
      "Gesamtanzahl der Landrutsche: 1477.0\n",
      "Anzahl gültiger Pixel im Parameter-Raster: 1609349.0\n",
      "SI-Werte in C:\\Users\\Marlenelokal\\OneDrive\\Dokumente\\UniJena\\Geo403_Geoinfo_Projekt\\Geoinfo_Projekt\\Automatisation\\data\\Statistical_Index\\curvature_profile_reclass_reproject_SI.tif geschrieben\n",
      "###########################################################################\n",
      "Verarbeitung von: litho1_reprojected.tif\n",
      "litho1_reprojected.tif wurde erfolgreich zugeschnitten\n",
      "Tabulate-Ausgabe gespeichert unter: C:\\Users\\Marlenelokal\\OneDrive\\Dokumente\\UniJena\\Geo403_Geoinfo_Projekt\\Geoinfo_Projekt\\Automatisation\\data\\Statistical_Index\\Tabulate_litho1_reprojected.dbf\n",
      "Gesamtanzahl der Landrutsche: 1477.0\n",
      "Anzahl gültiger Pixel im Parameter-Raster: 1596194.0\n",
      "SI-Werte in C:\\Users\\Marlenelokal\\OneDrive\\Dokumente\\UniJena\\Geo403_Geoinfo_Projekt\\Geoinfo_Projekt\\Automatisation\\data\\Statistical_Index\\litho1_reprojected_SI.tif geschrieben\n",
      "###########################################################################\n",
      "Verarbeitung von: precip_va3dayinterval_ordkriging_AOI_reclass_reproject.tif\n",
      "precip_va3dayinterval_ordkriging_AOI_reclass_reproject.tif wurde erfolgreich zugeschnitten\n",
      "Tabulate-Ausgabe gespeichert unter: C:\\Users\\Marlenelokal\\OneDrive\\Dokumente\\UniJena\\Geo403_Geoinfo_Projekt\\Geoinfo_Projekt\\Automatisation\\data\\Statistical_Index\\Tabulate_precip_va3dayinterval_ordkriging_AOI_reclass_reproject.dbf\n",
      "Gesamtanzahl der Landrutsche: 1477.0\n",
      "Anzahl gültiger Pixel im Parameter-Raster: 1609349.0\n",
      "SI-Werte in C:\\Users\\Marlenelokal\\OneDrive\\Dokumente\\UniJena\\Geo403_Geoinfo_Projekt\\Geoinfo_Projekt\\Automatisation\\data\\Statistical_Index\\precip_va3dayinterval_ordkriging_AOI_reclass_reproject_SI.tif geschrieben\n",
      "###########################################################################\n",
      "Verarbeitung von: Reclass_SPI_reproject.tif\n",
      "Reclass_SPI_reproject.tif wurde erfolgreich zugeschnitten\n",
      "Tabulate-Ausgabe gespeichert unter: C:\\Users\\Marlenelokal\\OneDrive\\Dokumente\\UniJena\\Geo403_Geoinfo_Projekt\\Geoinfo_Projekt\\Automatisation\\data\\Statistical_Index\\Tabulate_Reclass_SPI_reproject.dbf\n",
      "Gesamtanzahl der Landrutsche: 1477.0\n",
      "Anzahl gültiger Pixel im Parameter-Raster: 1607059.0\n",
      "SI-Werte in C:\\Users\\Marlenelokal\\OneDrive\\Dokumente\\UniJena\\Geo403_Geoinfo_Projekt\\Geoinfo_Projekt\\Automatisation\\data\\Statistical_Index\\Reclass_SPI_reproject_SI.tif geschrieben\n",
      "###########################################################################\n",
      "Verarbeitung von: rivers_setnull_mrb500_100_viewshed_reproject.tif\n",
      "rivers_setnull_mrb500_100_viewshed_reproject.tif wurde erfolgreich zugeschnitten\n",
      "Tabulate-Ausgabe gespeichert unter: C:\\Users\\Marlenelokal\\OneDrive\\Dokumente\\UniJena\\Geo403_Geoinfo_Projekt\\Geoinfo_Projekt\\Automatisation\\data\\Statistical_Index\\Tabulate_rivers_setnull_mrb500_100_viewshed_reproject.dbf\n",
      "Gesamtanzahl der Landrutsche: 1477.0\n",
      "Anzahl gültiger Pixel im Parameter-Raster: 1609349.0\n",
      "SI-Werte in C:\\Users\\Marlenelokal\\OneDrive\\Dokumente\\UniJena\\Geo403_Geoinfo_Projekt\\Geoinfo_Projekt\\Automatisation\\data\\Statistical_Index\\rivers_setnull_mrb500_100_viewshed_reproject_SI.tif geschrieben\n",
      "###########################################################################\n",
      "Verarbeitung von: roads_mrb250_50_viewshed_reclass_reproject.tif\n",
      "roads_mrb250_50_viewshed_reclass_reproject.tif wurde erfolgreich zugeschnitten\n",
      "Tabulate-Ausgabe gespeichert unter: C:\\Users\\Marlenelokal\\OneDrive\\Dokumente\\UniJena\\Geo403_Geoinfo_Projekt\\Geoinfo_Projekt\\Automatisation\\data\\Statistical_Index\\Tabulate_roads_mrb250_50_viewshed_reclass_reproject.dbf\n",
      "Gesamtanzahl der Landrutsche: 1477.0\n",
      "Anzahl gültiger Pixel im Parameter-Raster: 1609349.0\n",
      "SI-Werte in C:\\Users\\Marlenelokal\\OneDrive\\Dokumente\\UniJena\\Geo403_Geoinfo_Projekt\\Geoinfo_Projekt\\Automatisation\\data\\Statistical_Index\\roads_mrb250_50_viewshed_reclass_reproject_SI.tif geschrieben\n",
      "###########################################################################\n",
      "Verarbeitung von: slope_reclass_reprojected.tif\n",
      "slope_reclass_reprojected.tif wurde erfolgreich zugeschnitten\n",
      "Tabulate-Ausgabe gespeichert unter: C:\\Users\\Marlenelokal\\OneDrive\\Dokumente\\UniJena\\Geo403_Geoinfo_Projekt\\Geoinfo_Projekt\\Automatisation\\data\\Statistical_Index\\Tabulate_slope_reclass_reprojected.dbf\n",
      "Gesamtanzahl der Landrutsche: 1477.0\n",
      "Anzahl gültiger Pixel im Parameter-Raster: 1607059.0\n",
      "SI-Werte in C:\\Users\\Marlenelokal\\OneDrive\\Dokumente\\UniJena\\Geo403_Geoinfo_Projekt\\Geoinfo_Projekt\\Automatisation\\data\\Statistical_Index\\slope_reclass_reprojected_SI.tif geschrieben\n",
      "###########################################################################\n",
      "Verarbeitung von: soil1_repro.tif\n",
      "soil1_repro.tif wurde erfolgreich zugeschnitten\n",
      "Tabulate-Ausgabe gespeichert unter: C:\\Users\\Marlenelokal\\OneDrive\\Dokumente\\UniJena\\Geo403_Geoinfo_Projekt\\Geoinfo_Projekt\\Automatisation\\data\\Statistical_Index\\Tabulate_soil1_repro.dbf\n",
      "Gesamtanzahl der Landrutsche: 1477.0\n",
      "Anzahl gültiger Pixel im Parameter-Raster: 1596194.0\n",
      "SI-Werte in C:\\Users\\Marlenelokal\\OneDrive\\Dokumente\\UniJena\\Geo403_Geoinfo_Projekt\\Geoinfo_Projekt\\Automatisation\\data\\Statistical_Index\\soil1_repro_SI.tif geschrieben\n",
      "###########################################################################\n",
      "Verarbeitung von: twi_reclass_reprojected.tif\n",
      "twi_reclass_reprojected.tif wurde erfolgreich zugeschnitten\n",
      "Tabulate-Ausgabe gespeichert unter: C:\\Users\\Marlenelokal\\OneDrive\\Dokumente\\UniJena\\Geo403_Geoinfo_Projekt\\Geoinfo_Projekt\\Automatisation\\data\\Statistical_Index\\Tabulate_twi_reclass_reprojected.dbf\n",
      "Gesamtanzahl der Landrutsche: 1477.0\n",
      "Anzahl gültiger Pixel im Parameter-Raster: 1607059.0\n",
      "SI-Werte in C:\\Users\\Marlenelokal\\OneDrive\\Dokumente\\UniJena\\Geo403_Geoinfo_Projekt\\Geoinfo_Projekt\\Automatisation\\data\\Statistical_Index\\twi_reclass_reprojected_SI.tif geschrieben\n",
      "###########################################################################\n",
      "Verarbeitung von: VGTB_LandCover_2010_v2_reprojected.tif\n",
      "VGTB_LandCover_2010_v2_reprojected.tif wurde erfolgreich zugeschnitten\n",
      "Tabulate-Ausgabe gespeichert unter: C:\\Users\\Marlenelokal\\OneDrive\\Dokumente\\UniJena\\Geo403_Geoinfo_Projekt\\Geoinfo_Projekt\\Automatisation\\data\\Statistical_Index\\Tabulate_VGTB_LandCover_2010_v2_reprojected.dbf\n",
      "Gesamtanzahl der Landrutsche: 1480.0\n",
      "Anzahl gültiger Pixel im Parameter-Raster: 1608774.0\n",
      "SI-Werte in C:\\Users\\Marlenelokal\\OneDrive\\Dokumente\\UniJena\\Geo403_Geoinfo_Projekt\\Geoinfo_Projekt\\Automatisation\\data\\Statistical_Index\\VGTB_LandCover_2010_v2_reprojected_SI.tif geschrieben\n",
      "###########################################################################\n"
     ]
    }
   ],
   "source": [
    "for raster in raster_list:\n",
    "    si_values = {}  # Dictionary zur Speicherung der SI-Werte\n",
    "    input_raster = os.path.join(arcpy.env.workspace, \"Parameter\", raster)\n",
    "\n",
    "    print(f\"Verarbeitung von: {raster}\")\n",
    "    # Raster auf Sichtfeld zuschneiden\n",
    "    clipped_raster = ExtractByMask(input_raster, viewshed)\n",
    "    print(f\"{raster} wurde erfolgreich zugeschnitten\")\n",
    "\n",
    "    # Zonal Statistics Table (Anzahl Hangrutschung pro Parameterklasse)\n",
    "    tabulate_output = os.path.join(output_folder, f\"Tabulate_{raster.replace('.tif', '')}.dbf\")\n",
    "    zone_field = \"Value\"\n",
    "    arcpy.sa.ZonalStatisticsAsTable(clipped_raster, zone_field, landslide_raster, tabulate_output, \"DATA\", \"SUM\")\n",
    "    print(f\"Tabulate-Ausgabe gespeichert unter: {tabulate_output}\")\n",
    "\n",
    "    # Gesamte Anzahl der Landrutsche berechnen\n",
    "    total_landslides = 0\n",
    "    with arcpy.da.SearchCursor(tabulate_output, ['Value', 'COUNT']) as cursor:\n",
    "        for row in cursor:\n",
    "            total_landslides += row[1]\n",
    "    print(f\"Gesamtanzahl der Landrutsche: {total_landslides}\")\n",
    "\n",
    "    # Pixelanzahl pro Klasse berechnen\n",
    "    total_pixel = os.path.join(output_folder, f\"total_pixel_{raster.replace('.tif', '')}.dbf\")\n",
    "    arcpy.sa.ZonalStatisticsAsTable(clipped_raster, \"Value\", clipped_raster, total_pixel, \"DATA\", \"SUM\")\n",
    "    \n",
    "    # Gesamtzahl gültiger Pixel im Sichtfeld\n",
    "    total_pixel_count = 0\n",
    "    with arcpy.da.SearchCursor(total_pixel, [\"COUNT\"]) as cursor:\n",
    "        for row in cursor:\n",
    "            total_pixel_count += row[0]\n",
    "    print(f\"Anzahl gültiger Pixel im Parameter-Raster: {total_pixel_count}\")\n",
    "\n",
    "    # Pixel pro Klasse in Dictionary speichern\n",
    "    pixel_counts_per_class = {}\n",
    "    with arcpy.da.SearchCursor(total_pixel, [\"Value\", \"COUNT\"]) as cursor:\n",
    "        for row in cursor:\n",
    "            class_value = row[0]\n",
    "            count = row[1]\n",
    "            pixel_counts_per_class[class_value] = count\n",
    "\n",
    "    # SI-Werte pro Klasse berechnen\n",
    "    with arcpy.da.SearchCursor(tabulate_output, [\"Value\", \"COUNT\"]) as cursor:\n",
    "        for row in cursor:\n",
    "            class_value = row[0]\n",
    "            landslide_count = row[1]\n",
    "            class_pixel_count = pixel_counts_per_class.get(class_value, 0)\n",
    "\n",
    "            if class_pixel_count > 0 and total_pixel_count > 0 and total_landslides > 0:\n",
    "                si = math.log((landslide_count / class_pixel_count) / (total_landslides / total_pixel_count))\n",
    "                si_values[class_value] = si\n",
    "            else:\n",
    "                si_values[class_value] = 0\n",
    "\n",
    "    # Kopiere das ursprüngliche Raster und schreibe SI-Werte hinein\n",
    "    full_output_raster = os.path.join(output_folder, raster.replace(\".tif\", \"_SI.tif\"))\n",
    "    arcpy.management.CopyRaster(input_raster, full_output_raster)\n",
    "\n",
    "    # Attributtabelle erstellen und SI-Feld hinzufügen\n",
    "    arcpy.management.BuildRasterAttributeTable(full_output_raster, \"OVERWRITE\")\n",
    "    arcpy.management.AddField(full_output_raster, \"SI\", \"DOUBLE\")\n",
    "\n",
    "    # SI-Werte ins neue Feld schreiben\n",
    "    with arcpy.da.UpdateCursor(full_output_raster, [\"Value\", \"SI\"]) as cursor:\n",
    "        for row in cursor:\n",
    "            class_value = row[0]\n",
    "            si = si_values.get(class_value, 0)\n",
    "            row[1] = si\n",
    "            cursor.updateRow(row)\n",
    "\n",
    "    print(f\"SI-Werte in {full_output_raster} geschrieben\")\n",
    "    print(\"###########################################################################\")\n",
    "                               \n",
    "print(\"Prozess abgeschlossen\")"
   ]
  },
  {
   "cell_type": "markdown",
   "metadata": {},
   "source": [
    "### Gesamtgefährdung"
   ]
  },
  {
   "cell_type": "code",
   "execution_count": 7,
   "metadata": {},
   "outputs": [
    {
     "name": "stdout",
     "output_type": "stream",
     "text": [
      "Gefährdungslayer wurde erfolgreich erstellt.\n"
     ]
    }
   ],
   "source": [
    "# SI aufsummieren, Gesamtgefährdung erstellen\n",
    "\n",
    "# Verzeichnis mit den Eingabe-Rastern\n",
    "SI_raster_list = [f for f in os.listdir(output_folder) if f.endswith(\".tif\")]\n",
    "si_raster_paths = [os.path.join(output_folder, r) for r in SI_raster_list]\n",
    "\n",
    "# Lookup-Raster erstellen (temporär), da die Spalte SI nicht direkt addiert werden kann\n",
    "lookup_rasters = [Lookup(raster, \"SI\") for raster in si_raster_paths]\n",
    "# Summe berechnen\n",
    "si_sum = CellStatistics(lookup_rasters, \"SUM\", \"DATA\")\n",
    "si_sum.save(os.path.join(output_folder, \"SI_sum.tif\")) # Layer speichern\n",
    "print(\"Gefährdungslayer wurde erfolgreich erstellt.\") # Ausgabe"
   ]
  },
  {
   "cell_type": "markdown",
   "metadata": {},
   "source": [
    "### SI Standardisierung"
   ]
  },
  {
   "cell_type": "code",
   "execution_count": 9,
   "metadata": {},
   "outputs": [],
   "source": [
    "output = \"si_sum_standardized.tif\"\n",
    "# Min und Max Werte des si_sum Layers berechnen\n",
    "min_value = arcpy.management.GetRasterProperties(si_sum, \"MINIMUM\")\n",
    "max_value = arcpy.management.GetRasterProperties(si_sum, \"MAXIMUM\")\n",
    "\n",
    "# Min und Max als Variablen extrahieren\n",
    "min_value = float(min_value.getOutput(0))\n",
    "max_value = float(max_value.getOutput(0))\n",
    "\n",
    "# Raster standardisieren: (Wert - Min) / (Max - Min)\n",
    "standardized_raster = (Raster(input_raster) - min_value) / (max_value - min_value)\n",
    "\n",
    "# Ausgabe-Raster speichern\n",
    "standardized_raster.save(output)\n"
   ]
  },
  {
   "cell_type": "code",
   "execution_count": null,
   "metadata": {},
   "outputs": [],
   "source": []
  }
 ],
 "metadata": {
  "kernelspec": {
   "display_name": "ArcGISPro",
   "language": "Python",
   "name": "python3"
  },
  "language_info": {
   "file_extension": ".py",
   "name": "python",
   "version": "3"
  }
 },
 "nbformat": 4,
 "nbformat_minor": 2
}
